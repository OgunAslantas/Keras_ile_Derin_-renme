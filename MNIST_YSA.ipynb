{
  "nbformat": 4,
  "nbformat_minor": 0,
  "metadata": {
    "colab": {
      "name": "MNIST_YSA.ipynb",
      "provenance": [],
      "collapsed_sections": []
    },
    "kernelspec": {
      "name": "python3",
      "display_name": "Python 3"
    }
  },
  "cells": [
    {
      "cell_type": "markdown",
      "metadata": {
        "id": "E5v9uHkuIjqr"
      },
      "source": [
        "## MNSİT veri kümesini kullanarak yapay sinir ağları ile rakam sınıflandırma"
      ]
    },
    {
      "cell_type": "markdown",
      "metadata": {
        "id": "kLVqJ1A8Idkk"
      },
      "source": [
        "MNİST veri kümesini yüklemek"
      ]
    },
    {
      "cell_type": "code",
      "metadata": {
        "colab": {
          "base_uri": "https://localhost:8080/"
        },
        "id": "tpK7jAlyHfGj",
        "outputId": "e5f36e04-777a-460d-a163-34c19a43a000"
      },
      "source": [
        "from keras.datasets import mnist\n",
        "\n",
        "(train_images,train_labels),(test_imaages,test_labels)=mnist.load_data()"
      ],
      "execution_count": null,
      "outputs": [
        {
          "output_type": "stream",
          "text": [
            "Downloading data from https://storage.googleapis.com/tensorflow/tf-keras-datasets/mnist.npz\n",
            "11493376/11490434 [==============================] - 0s 0us/step\n"
          ],
          "name": "stdout"
        }
      ]
    },
    {
      "cell_type": "code",
      "metadata": {
        "colab": {
          "base_uri": "https://localhost:8080/"
        },
        "id": "FghAOn41H2pH",
        "outputId": "5d44e68c-c428-4efc-d8fb-2110c2eb759f"
      },
      "source": [
        "train_images.shape"
      ],
      "execution_count": null,
      "outputs": [
        {
          "output_type": "execute_result",
          "data": {
            "text/plain": [
              "(60000, 28, 28)"
            ]
          },
          "metadata": {
            "tags": []
          },
          "execution_count": 4
        }
      ]
    },
    {
      "cell_type": "code",
      "metadata": {
        "colab": {
          "base_uri": "https://localhost:8080/"
        },
        "id": "CvyWri90ICMY",
        "outputId": "f75688e6-7c1c-4926-e5f4-a10f06ecfebb"
      },
      "source": [
        "len(train_images)"
      ],
      "execution_count": null,
      "outputs": [
        {
          "output_type": "execute_result",
          "data": {
            "text/plain": [
              "60000"
            ]
          },
          "metadata": {
            "tags": []
          },
          "execution_count": 5
        }
      ]
    },
    {
      "cell_type": "code",
      "metadata": {
        "colab": {
          "base_uri": "https://localhost:8080/"
        },
        "id": "vHHIvnQzIGWg",
        "outputId": "860982d2-6e27-42aa-9631-f1e624de6b68"
      },
      "source": [
        "train_labels"
      ],
      "execution_count": null,
      "outputs": [
        {
          "output_type": "execute_result",
          "data": {
            "text/plain": [
              "array([5, 0, 4, ..., 5, 6, 8], dtype=uint8)"
            ]
          },
          "metadata": {
            "tags": []
          },
          "execution_count": 7
        }
      ]
    },
    {
      "cell_type": "markdown",
      "metadata": {
        "id": "ko3gg6EuI4pD"
      },
      "source": [
        "### Yapay Sinir Ağı Mimarisi:"
      ]
    },
    {
      "cell_type": "code",
      "metadata": {
        "id": "D4MYWjoFIJ65"
      },
      "source": [
        "from keras import models\n",
        "from keras import layers"
      ],
      "execution_count": null,
      "outputs": []
    },
    {
      "cell_type": "code",
      "metadata": {
        "id": "4_1VEUwgJAkh"
      },
      "source": [
        "network=models.Sequential()\n",
        "\n",
        "network.add(layers.Dense(512,activation=\"relu\",input_shape=(28*28,)))\n",
        "network.add(layers.Dense(10,activation=\"softmax\"))"
      ],
      "execution_count": null,
      "outputs": []
    },
    {
      "cell_type": "markdown",
      "metadata": {
        "id": "-ezzSf-YJj8c"
      },
      "source": [
        "YSA Modelinin Derlenmesi"
      ]
    },
    {
      "cell_type": "code",
      "metadata": {
        "id": "vQfBE-IBJhC7"
      },
      "source": [
        "network.compile(optimizer=\"rmsprop\",\n",
        "                loss=\"categorical_crossentropy\",\n",
        "                metrics=[\"accuracy\"])"
      ],
      "execution_count": null,
      "outputs": []
    },
    {
      "cell_type": "markdown",
      "metadata": {
        "id": "us-Gts0wKA_M"
      },
      "source": [
        "Girişlerin ve Etiketlerin Hazırlanması"
      ]
    },
    {
      "cell_type": "code",
      "metadata": {
        "id": "zZCPT7_UJ-e7"
      },
      "source": [
        "train_images=train_images.reshape((60000,28*28))\n",
        "train_images=train_images.astype(\"float32\")/255\n",
        "\n",
        "test_imaages=test_imaages.reshape((10000,28*28))\n",
        "test_imaages=test_imaages.astype(\"float32\")/255"
      ],
      "execution_count": null,
      "outputs": []
    },
    {
      "cell_type": "code",
      "metadata": {
        "id": "hXln5PqxKZld"
      },
      "source": [
        "from keras.utils import to_categorical\n",
        "\n",
        "train_labels=to_categorical(train_labels)\n",
        "test_labels=to_categorical(test_labels)"
      ],
      "execution_count": null,
      "outputs": []
    },
    {
      "cell_type": "markdown",
      "metadata": {
        "id": "QzP0orHAK4KJ"
      },
      "source": [
        "YSA Modelinin Eğitilmesi"
      ]
    },
    {
      "cell_type": "code",
      "metadata": {
        "colab": {
          "base_uri": "https://localhost:8080/"
        },
        "id": "WqhaM4k4K3f8",
        "outputId": "c81cc708-ffec-406a-cd7f-0d0d88ac98a7"
      },
      "source": [
        "network.fit(train_images,train_labels,epochs=5,batch_size=128)"
      ],
      "execution_count": null,
      "outputs": [
        {
          "output_type": "stream",
          "text": [
            "Epoch 1/5\n",
            "469/469 [==============================] - 3s 7ms/step - loss: 2.3014 - accuracy: 0.1114\n",
            "Epoch 2/5\n",
            "469/469 [==============================] - 3s 7ms/step - loss: 2.3012 - accuracy: 0.1124\n",
            "Epoch 3/5\n",
            "469/469 [==============================] - 3s 7ms/step - loss: 2.3009 - accuracy: 0.1124\n",
            "Epoch 4/5\n",
            "469/469 [==============================] - 3s 7ms/step - loss: 2.3005 - accuracy: 0.1124\n",
            "Epoch 5/5\n",
            "469/469 [==============================] - 3s 7ms/step - loss: 2.2996 - accuracy: 0.1124\n"
          ],
          "name": "stdout"
        },
        {
          "output_type": "execute_result",
          "data": {
            "text/plain": [
              "<tensorflow.python.keras.callbacks.History at 0x7f11f90f2ef0>"
            ]
          },
          "metadata": {
            "tags": []
          },
          "execution_count": 16
        }
      ]
    },
    {
      "cell_type": "code",
      "metadata": {
        "colab": {
          "base_uri": "https://localhost:8080/"
        },
        "id": "LPyZ_zybLE7p",
        "outputId": "ebb68155-ecfa-49fc-beca-987c74095562"
      },
      "source": [
        "test_loss,test_acc=network.evaluate(test_imaages,test_labels)"
      ],
      "execution_count": null,
      "outputs": [
        {
          "output_type": "stream",
          "text": [
            "313/313 [==============================] - 1s 2ms/step - loss: 4.9426 - accuracy: 0.4035\n"
          ],
          "name": "stdout"
        }
      ]
    },
    {
      "cell_type": "code",
      "metadata": {
        "colab": {
          "base_uri": "https://localhost:8080/"
        },
        "id": "waahOPhkLYoM",
        "outputId": "ee321611-5349-47ca-8ecd-0cca7fe1377a"
      },
      "source": [
        "print(\"test_loss\",test_loss)"
      ],
      "execution_count": null,
      "outputs": [
        {
          "output_type": "stream",
          "text": [
            "test_loss 4.94257116317749\n"
          ],
          "name": "stdout"
        }
      ]
    },
    {
      "cell_type": "code",
      "metadata": {
        "colab": {
          "base_uri": "https://localhost:8080/"
        },
        "id": "lsbxPREOLndC",
        "outputId": "493b9d94-588d-4703-b265-08b574beadc0"
      },
      "source": [
        "print(\"test_acc\",test_acc)"
      ],
      "execution_count": null,
      "outputs": [
        {
          "output_type": "stream",
          "text": [
            "test_acc 0.4034999907016754\n"
          ],
          "name": "stdout"
        }
      ]
    },
    {
      "cell_type": "code",
      "metadata": {
        "id": "3FZQfRTPLqkq"
      },
      "source": [
        ""
      ],
      "execution_count": null,
      "outputs": []
    }
  ]
}