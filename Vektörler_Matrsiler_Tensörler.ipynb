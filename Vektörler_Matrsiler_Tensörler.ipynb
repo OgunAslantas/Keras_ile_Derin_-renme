{
  "nbformat": 4,
  "nbformat_minor": 0,
  "metadata": {
    "colab": {
      "name": "Vektörler_Matrsiler_Tensörler.ipynb",
      "provenance": [],
      "collapsed_sections": []
    },
    "kernelspec": {
      "name": "python3",
      "display_name": "Python 3"
    }
  },
  "cells": [
    {
      "cell_type": "code",
      "metadata": {
        "colab": {
          "base_uri": "https://localhost:8080/"
        },
        "id": "pxnWgTaWEr4l",
        "outputId": "cdb57a06-132c-4481-da0c-34beb04b1919"
      },
      "source": [
        "import numpy as np\n",
        "\n",
        "x=np.array(7) #scaler sayı\n",
        "x"
      ],
      "execution_count": null,
      "outputs": [
        {
          "output_type": "execute_result",
          "data": {
            "text/plain": [
              "array(7)"
            ]
          },
          "metadata": {
            "tags": []
          },
          "execution_count": 1
        }
      ]
    },
    {
      "cell_type": "code",
      "metadata": {
        "colab": {
          "base_uri": "https://localhost:8080/"
        },
        "id": "FCq850JSE_1h",
        "outputId": "017ca189-da8d-4d69-a0d7-348bfabd6400"
      },
      "source": [
        "x.ndim"
      ],
      "execution_count": null,
      "outputs": [
        {
          "output_type": "execute_result",
          "data": {
            "text/plain": [
              "0"
            ]
          },
          "metadata": {
            "tags": []
          },
          "execution_count": 2
        }
      ]
    },
    {
      "cell_type": "code",
      "metadata": {
        "colab": {
          "base_uri": "https://localhost:8080/"
        },
        "id": "5n0P4EnHFGRA",
        "outputId": "fef1d0c0-c3e5-477b-a1b6-f253aba6bde8"
      },
      "source": [
        "x=np.array([7,14,21]) #vektör\n",
        "x"
      ],
      "execution_count": null,
      "outputs": [
        {
          "output_type": "execute_result",
          "data": {
            "text/plain": [
              "array([ 7, 14, 21])"
            ]
          },
          "metadata": {
            "tags": []
          },
          "execution_count": 3
        }
      ]
    },
    {
      "cell_type": "code",
      "metadata": {
        "colab": {
          "base_uri": "https://localhost:8080/"
        },
        "id": "ls7NX82nFNSJ",
        "outputId": "6911c788-d6ee-41a5-8298-3bf7a7df05f3"
      },
      "source": [
        "x.ndim"
      ],
      "execution_count": null,
      "outputs": [
        {
          "output_type": "execute_result",
          "data": {
            "text/plain": [
              "1"
            ]
          },
          "metadata": {
            "tags": []
          },
          "execution_count": 4
        }
      ]
    },
    {
      "cell_type": "code",
      "metadata": {
        "colab": {
          "base_uri": "https://localhost:8080/"
        },
        "id": "NGoYlKWEFPVp",
        "outputId": "7bcabb40-ec19-48b2-f45b-7d6a3a37c435"
      },
      "source": [
        "x=np.array([[7,14,21],\n",
        "           [7,14,21],\n",
        "           [7,14,21]])\n",
        "x"
      ],
      "execution_count": null,
      "outputs": [
        {
          "output_type": "execute_result",
          "data": {
            "text/plain": [
              "array([[ 7, 14, 21],\n",
              "       [ 7, 14, 21],\n",
              "       [ 7, 14, 21]])"
            ]
          },
          "metadata": {
            "tags": []
          },
          "execution_count": 6
        }
      ]
    },
    {
      "cell_type": "code",
      "metadata": {
        "id": "W_jbRMWDFcbN"
      },
      "source": [
        "x.ndim"
      ],
      "execution_count": null,
      "outputs": []
    },
    {
      "cell_type": "code",
      "metadata": {
        "colab": {
          "base_uri": "https://localhost:8080/"
        },
        "id": "opg9RD74FkbO",
        "outputId": "89a9d696-3335-409b-89fa-cf2f370d2f18"
      },
      "source": [
        "x=np.array([[[7,14,21],[7,14,21]],\n",
        "           [[10,12,13],[10,12,13]],\n",
        "           [[17,18,19],[17,18,19]]]) #tensör\n",
        "x"
      ],
      "execution_count": null,
      "outputs": [
        {
          "output_type": "execute_result",
          "data": {
            "text/plain": [
              "array([[[ 7, 14, 21],\n",
              "        [ 7, 14, 21]],\n",
              "\n",
              "       [[10, 12, 13],\n",
              "        [10, 12, 13]],\n",
              "\n",
              "       [[17, 18, 19],\n",
              "        [17, 18, 19]]])"
            ]
          },
          "metadata": {
            "tags": []
          },
          "execution_count": 9
        }
      ]
    },
    {
      "cell_type": "code",
      "metadata": {
        "colab": {
          "base_uri": "https://localhost:8080/"
        },
        "id": "vy8f3KWHGEh5",
        "outputId": "cf240f88-87dd-4a50-a229-17dced0f0991"
      },
      "source": [
        "x.ndim"
      ],
      "execution_count": null,
      "outputs": [
        {
          "output_type": "execute_result",
          "data": {
            "text/plain": [
              "3"
            ]
          },
          "metadata": {
            "tags": []
          },
          "execution_count": 10
        }
      ]
    },
    {
      "cell_type": "code",
      "metadata": {
        "colab": {
          "base_uri": "https://localhost:8080/"
        },
        "id": "xcZSAVQrGcrU",
        "outputId": "1e12cc5a-d6fe-48ee-a579-b0b114526b35"
      },
      "source": [
        "from keras.datasets import mnist\n",
        "(train_images,trani_labels),(test_images,test_labels)=mnist.load_data()"
      ],
      "execution_count": null,
      "outputs": [
        {
          "output_type": "stream",
          "text": [
            "Downloading data from https://storage.googleapis.com/tensorflow/tf-keras-datasets/mnist.npz\n",
            "11493376/11490434 [==============================] - 0s 0us/step\n"
          ],
          "name": "stdout"
        }
      ]
    },
    {
      "cell_type": "code",
      "metadata": {
        "colab": {
          "base_uri": "https://localhost:8080/"
        },
        "id": "Z-RW0MvnG05G",
        "outputId": "f78185be-4d97-4662-db8f-b6aead5eab03"
      },
      "source": [
        "print(train_images.ndim)"
      ],
      "execution_count": null,
      "outputs": [
        {
          "output_type": "stream",
          "text": [
            "3\n"
          ],
          "name": "stdout"
        }
      ]
    },
    {
      "cell_type": "code",
      "metadata": {
        "colab": {
          "base_uri": "https://localhost:8080/"
        },
        "id": "6hpPiLHKG8R-",
        "outputId": "a3e09fe5-80c1-4d64-eb46-2cd923b532bf"
      },
      "source": [
        "print(train_images.shape)"
      ],
      "execution_count": null,
      "outputs": [
        {
          "output_type": "stream",
          "text": [
            "(60000, 28, 28)\n"
          ],
          "name": "stdout"
        }
      ]
    },
    {
      "cell_type": "code",
      "metadata": {
        "colab": {
          "base_uri": "https://localhost:8080/"
        },
        "id": "UTq8GOPfHC8y",
        "outputId": "8d353ae3-f315-4a57-a34e-2a9d7459a2cf"
      },
      "source": [
        "print(test_images.shape)"
      ],
      "execution_count": null,
      "outputs": [
        {
          "output_type": "stream",
          "text": [
            "(10000, 28, 28)\n"
          ],
          "name": "stdout"
        }
      ]
    },
    {
      "cell_type": "code",
      "metadata": {
        "colab": {
          "base_uri": "https://localhost:8080/"
        },
        "id": "HtnPk8cHHGRX",
        "outputId": "78ef5fd3-4e7e-4adf-d80d-f6cf77fe60ab"
      },
      "source": [
        "print(test_images.dtype)"
      ],
      "execution_count": null,
      "outputs": [
        {
          "output_type": "stream",
          "text": [
            "uint8\n"
          ],
          "name": "stdout"
        }
      ]
    },
    {
      "cell_type": "code",
      "metadata": {
        "id": "X8reHluxHQM6"
      },
      "source": [
        "digit=train_images[27]"
      ],
      "execution_count": null,
      "outputs": []
    },
    {
      "cell_type": "code",
      "metadata": {
        "colab": {
          "base_uri": "https://localhost:8080/",
          "height": 265
        },
        "id": "_NlKxUOlHaR4",
        "outputId": "5147366e-e4dd-4c5b-febe-5a3c70f58c31"
      },
      "source": [
        "import matplotlib.pyplot as plt\n",
        "\n",
        "plt.imshow(digit,cmap=plt.cm.binary)#cmap=plt.cm.binary --görüntüyü siyah-beyaz yapar.\n",
        "plt.show()"
      ],
      "execution_count": null,
      "outputs": [
        {
          "output_type": "display_data",
          "data": {
            "image/png": "[encoded data removed]",
            "text/plain": [
              "<Figure size 432x288 with 1 Axes>"
            ]
          },
          "metadata": {
            "tags": [],
            "needs_background": "light"
          }
        }
      ]
    },
    {
      "cell_type": "code",
      "metadata": {
        "colab": {
          "base_uri": "https://localhost:8080/"
        },
        "id": "SE4imBhlHhQr",
        "outputId": "3480d5ef-a552-4200-d0ac-6ba8b9b55c01"
      },
      "source": [
        "dizinim=train_images[7:77]\n",
        "\n",
        "print(dizinim.shape)"
      ],
      "execution_count": null,
      "outputs": [
        {
          "output_type": "stream",
          "text": [
            "(70, 28, 28)\n"
          ],
          "name": "stdout"
        }
      ]
    },
    {
      "cell_type": "code",
      "metadata": {
        "colab": {
          "base_uri": "https://localhost:8080/"
        },
        "id": "S97-GpnzICxo",
        "outputId": "4c35dddb-cc86-4892-e748-66be73a6c550"
      },
      "source": [
        "dizinim=train_images[7:77,:,:]\n",
        "dizinim.shape"
      ],
      "execution_count": null,
      "outputs": [
        {
          "output_type": "execute_result",
          "data": {
            "text/plain": [
              "(70, 28, 28)"
            ]
          },
          "metadata": {
            "tags": []
          },
          "execution_count": 28
        }
      ]
    },
    {
      "cell_type": "code",
      "metadata": {
        "colab": {
          "base_uri": "https://localhost:8080/"
        },
        "id": "x8JPK2nvIYRj",
        "outputId": "75e0eab4-25aa-4b46-cfe8-4635509b846d"
      },
      "source": [
        "dizinim=train_images[7:77,0:14,0:14]\n",
        "dizinim.shape"
      ],
      "execution_count": null,
      "outputs": [
        {
          "output_type": "execute_result",
          "data": {
            "text/plain": [
              "(70, 14, 14)"
            ]
          },
          "metadata": {
            "tags": []
          },
          "execution_count": 29
        }
      ]
    },
    {
      "cell_type": "markdown",
      "metadata": {
        "id": "Bt0Cp5lFb-qb"
      },
      "source": [
        "# İşlemler:\n",
        "\n",
        "\n",
        "*   Eleman Temelli\n",
        "\n",
        "Bu işlemler tensörün her elemananına ayrı ayrı uygulanır.\n",
        "\n"
      ]
    },
    {
      "cell_type": "code",
      "metadata": {
        "id": "n5tAar9ZIe9G"
      },
      "source": [
        "def naive_add(x,y):\n",
        "  assert len(x.shape)==2 #x ve y 2 boyutlu bir numpy tensörü\n",
        "  assert x.shape==y.shape\n",
        "\n",
        "  x=x.copy()\n",
        "\n",
        "  for i in range(x.shape[0]):\n",
        "    for j in range(x.shape[1]):\n",
        "      x[i,j]+=y[i,j]\n",
        "  return x"
      ],
      "execution_count": null,
      "outputs": []
    },
    {
      "cell_type": "code",
      "metadata": {
        "colab": {
          "base_uri": "https://localhost:8080/"
        },
        "id": "Cb3glCh8c5ag",
        "outputId": "e1439c4b-04a5-448c-c767-9426781dfb4b"
      },
      "source": [
        "x=np.array([[7,14,21],\n",
        "           [7,14,21],\n",
        "           [7,14,21]])\n",
        "\n",
        "y=np.array([[2,2,2],\n",
        "           [3,3,3],\n",
        "           [5,5,5]])\n",
        "\n",
        "z=naive_add(x,y)\n",
        "z"
      ],
      "execution_count": null,
      "outputs": [
        {
          "output_type": "execute_result",
          "data": {
            "text/plain": [
              "array([[ 9, 16, 23],\n",
              "       [10, 17, 24],\n",
              "       [12, 19, 26]])"
            ]
          },
          "metadata": {
            "tags": []
          },
          "execution_count": 31
        }
      ]
    },
    {
      "cell_type": "code",
      "metadata": {
        "colab": {
          "base_uri": "https://localhost:8080/"
        },
        "id": "9aLMWvFWdPet",
        "outputId": "2667f787-9fbc-4df2-eb8e-d798a3110a9b"
      },
      "source": [
        "#Numpy kütüphanesi ile:\n",
        "\n",
        "import numpy as np\n",
        "\n",
        "x=np.array([[7,14,21],\n",
        "           [7,14,21],\n",
        "           [7,14,21]])\n",
        "\n",
        "y=np.array([[2,2,2],\n",
        "           [3,3,3],\n",
        "           [5,5,5]])\n",
        "z=x+y\n",
        "z"
      ],
      "execution_count": null,
      "outputs": [
        {
          "output_type": "execute_result",
          "data": {
            "text/plain": [
              "array([[ 9, 16, 23],\n",
              "       [10, 17, 24],\n",
              "       [12, 19, 26]])"
            ]
          },
          "metadata": {
            "tags": []
          },
          "execution_count": 33
        }
      ]
    },
    {
      "cell_type": "code",
      "metadata": {
        "id": "xN7eUfv4daIZ"
      },
      "source": [
        "def naive_relu(x):\n",
        "  assert len(x.shape)==2\n",
        "  x=x.copy()\n",
        "\n",
        "  for i in range(x.shape[0]):\n",
        "    for j in range(x.shape[1]):\n",
        "      x[i,j]=max(x[i,j],0)\n",
        "  return x"
      ],
      "execution_count": null,
      "outputs": []
    },
    {
      "cell_type": "code",
      "metadata": {
        "colab": {
          "base_uri": "https://localhost:8080/"
        },
        "id": "-xMxyligdzjY",
        "outputId": "4f0a400b-fe28-47ff-d9bb-4d9c64b83e9a"
      },
      "source": [
        "x=np.array([[7,-14,21],\n",
        "           [7,14,-21],\n",
        "           [7,14,21]])\n",
        "\n",
        "\n",
        "z=naive_relu(x)\n",
        "z"
      ],
      "execution_count": null,
      "outputs": [
        {
          "output_type": "execute_result",
          "data": {
            "text/plain": [
              "array([[ 7,  0, 21],\n",
              "       [ 7, 14,  0],\n",
              "       [ 7, 14, 21]])"
            ]
          },
          "metadata": {
            "tags": []
          },
          "execution_count": 37
        }
      ]
    },
    {
      "cell_type": "code",
      "metadata": {
        "colab": {
          "base_uri": "https://localhost:8080/"
        },
        "id": "6XLVJXPjd558",
        "outputId": "779d175b-8c58-4238-8d9b-c02ab14b95f2"
      },
      "source": [
        "z=np.maximum(x,0.)\n",
        "z"
      ],
      "execution_count": null,
      "outputs": [
        {
          "output_type": "execute_result",
          "data": {
            "text/plain": [
              "array([[ 7.,  0., 21.],\n",
              "       [ 7., 14.,  0.],\n",
              "       [ 7., 14., 21.]])"
            ]
          },
          "metadata": {
            "tags": []
          },
          "execution_count": 38
        }
      ]
    },
    {
      "cell_type": "markdown",
      "metadata": {
        "id": "DgUPKkOekCCc"
      },
      "source": [
        "\n",
        "\n",
        "*   Yayma Operasyonu:\n",
        "\n"
      ]
    },
    {
      "cell_type": "code",
      "metadata": {
        "id": "Ib8d1X21fpNe"
      },
      "source": [
        "#matris ve vektörün toplamına yayma denir.\n",
        "\n",
        "def naive_add_matrix_and_vector(x,y):\n",
        "  assert len(x.shape)==2\n",
        "  assert len(y.shape)==1\n",
        "  assert x.shape[1]==y.shape[0]\n",
        "\n",
        "  x=x.copy()\n",
        "\n",
        "  for i in range(x.shape[0]):\n",
        "    for j in range(x.shape[1]):\n",
        "      x[i,j]+=y[j]\n",
        "  return x\n"
      ],
      "execution_count": null,
      "outputs": []
    },
    {
      "cell_type": "code",
      "metadata": {
        "colab": {
          "base_uri": "https://localhost:8080/"
        },
        "id": "0mWTEynBkuRY",
        "outputId": "4880be98-c0ed-479d-ca5a-ee5b3211a3c2"
      },
      "source": [
        "\n",
        "y=np.array([1,2,3])\n",
        "\n",
        "z=naive_add_matrix_and_vector(x,y)\n",
        "z"
      ],
      "execution_count": null,
      "outputs": [
        {
          "output_type": "execute_result",
          "data": {
            "text/plain": [
              "array([[ 8, 16, 24],\n",
              "       [ 8, 16, 24],\n",
              "       [ 8, 16, 24]])"
            ]
          },
          "metadata": {
            "tags": []
          },
          "execution_count": 41
        }
      ]
    },
    {
      "cell_type": "code",
      "metadata": {
        "colab": {
          "base_uri": "https://localhost:8080/"
        },
        "id": "-HLTKNqck8Lb",
        "outputId": "8b5a7c21-6b1a-4793-d483-02fb7b2be2ac"
      },
      "source": [
        "#numpy ile:\n",
        "\n",
        "x=np.random.random((64,3,32,10))\n",
        "y=np.random.random((32,10))\n",
        "\n",
        "z=np.maximum(x,y)\n",
        "z.shape"
      ],
      "execution_count": null,
      "outputs": [
        {
          "output_type": "execute_result",
          "data": {
            "text/plain": [
              "(64, 3, 32, 10)"
            ]
          },
          "metadata": {
            "tags": []
          },
          "execution_count": 46
        }
      ]
    },
    {
      "cell_type": "markdown",
      "metadata": {
        "id": "rQoYdyOwpyoc"
      },
      "source": [
        "\n",
        "\n",
        "*   Kanal/Şekil Değiştirme:\n",
        "\n"
      ]
    },
    {
      "cell_type": "code",
      "metadata": {
        "colab": {
          "base_uri": "https://localhost:8080/"
        },
        "id": "L0WUfn57lTD_",
        "outputId": "511d224d-0a0a-460e-8e71-a01da1a991cb"
      },
      "source": [
        "x=np.array([[0.,1.],\n",
        "            [2.,3.],\n",
        "            [4.,5.]])\n",
        "x.shape"
      ],
      "execution_count": null,
      "outputs": [
        {
          "output_type": "execute_result",
          "data": {
            "text/plain": [
              "(3, 2)"
            ]
          },
          "metadata": {
            "tags": []
          },
          "execution_count": 48
        }
      ]
    },
    {
      "cell_type": "code",
      "metadata": {
        "colab": {
          "base_uri": "https://localhost:8080/"
        },
        "id": "eEo9CsVTqDql",
        "outputId": "158087cf-d77f-462a-c308-93a6fe008699"
      },
      "source": [
        "x=x.reshape((6,1))\n",
        "x"
      ],
      "execution_count": null,
      "outputs": [
        {
          "output_type": "execute_result",
          "data": {
            "text/plain": [
              "array([[0.],\n",
              "       [1.],\n",
              "       [2.],\n",
              "       [3.],\n",
              "       [4.],\n",
              "       [5.]])"
            ]
          },
          "metadata": {
            "tags": []
          },
          "execution_count": 49
        }
      ]
    },
    {
      "cell_type": "code",
      "metadata": {
        "colab": {
          "base_uri": "https://localhost:8080/"
        },
        "id": "_T1ilZPhqOYi",
        "outputId": "785584ae-ac48-47ef-bfb6-90d7e7f14907"
      },
      "source": [
        "x=np.zeros((100,10))\n",
        "x=np.transpose(x)\n",
        "print(x.shape)"
      ],
      "execution_count": null,
      "outputs": [
        {
          "output_type": "stream",
          "text": [
            "(10, 100)\n"
          ],
          "name": "stdout"
        }
      ]
    },
    {
      "cell_type": "code",
      "metadata": {
        "id": "lTrJbz9_qgg6"
      },
      "source": [
        ""
      ],
      "execution_count": null,
      "outputs": []
    }
  ]
}