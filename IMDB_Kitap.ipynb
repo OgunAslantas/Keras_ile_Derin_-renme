{
  "nbformat": 4,
  "nbformat_minor": 0,
  "metadata": {
    "colab": {
      "name": "IMDB_Kitap.ipynb",
      "provenance": [],
      "collapsed_sections": []
    },
    "kernelspec": {
      "name": "python3",
      "display_name": "Python 3"
    }
  },
  "cells": [
    {
      "cell_type": "markdown",
      "metadata": {
        "id": "XQm3bXb1qw85"
      },
      "source": [
        "# Film Kritiklerini Sınıflandırma:İkili Sınıflandırma Örneği\n",
        "## Bu örnekte, film kritiklerinin içeriklerine bakarak olumlu, olumsuz olarak sınıflandıracaksınız."
      ]
    },
    {
      "cell_type": "code",
      "metadata": {
        "id": "oSou_QqPD_Yw"
      },
      "source": [
        "from keras.datasets import imdb\n",
        "(train_data,train_labels),(test_data,test_labels)=imdb.load_data(num_words=10000)"
      ],
      "execution_count": null,
      "outputs": []
    },
    {
      "cell_type": "markdown",
      "metadata": {
        "id": "qkjJoF1QCGcR"
      },
      "source": [
        "### Neden eğitim ve test veri setlerini birbirinden ayırmalıyız?\n",
        "Çünkü makine öğrenmesi modellerini asla eğittiniz verilerle test etmemelisiniz."
      ]
    },
    {
      "cell_type": "code",
      "metadata": {
        "colab": {
          "base_uri": "https://localhost:8080/"
        },
        "id": "ODG4nNXBqFB4",
        "outputId": "6d22ed7c-4cc0-424b-a938-26713de986c8"
      },
      "source": [
        "train_labels[0]"
      ],
      "execution_count": null,
      "outputs": [
        {
          "output_type": "execute_result",
          "data": {
            "text/plain": [
              "1"
            ]
          },
          "metadata": {
            "tags": []
          },
          "execution_count": 3
        }
      ]
    },
    {
      "cell_type": "markdown",
      "metadata": {
        "id": "0GM2Rlq9Dy1f"
      },
      "source": [
        "train_data ve test_data film kritiklerini bulunduran liste değişkenleri ve her liste, kelimeleri temsil eden sayıları saklıyor. train_labels ve test_labels 0 ve 1'lerden oluşan listeleri ve 0 olumsuz kritikleri, 1 ise olumlu kritikleri temsil ediyor."
      ]
    },
    {
      "cell_type": "code",
      "metadata": {
        "colab": {
          "base_uri": "https://localhost:8080/"
        },
        "id": "P886-OsYDNjI",
        "outputId": "132ec451-a14e-45d3-9454-b1d4503b0f22"
      },
      "source": [
        "test_labels[0]"
      ],
      "execution_count": null,
      "outputs": [
        {
          "output_type": "execute_result",
          "data": {
            "text/plain": [
              "0"
            ]
          },
          "metadata": {
            "tags": []
          },
          "execution_count": 4
        }
      ]
    },
    {
      "cell_type": "markdown",
      "metadata": {
        "id": "AE7SsayXEehq"
      },
      "source": [
        "En çok kullanılan 10000 kritiği kullanacağınız için hiçbir kelime indeksi 10000'i geçemeyecektir."
      ]
    },
    {
      "cell_type": "code",
      "metadata": {
        "colab": {
          "base_uri": "https://localhost:8080/"
        },
        "id": "YKQhbeyBDsfj",
        "outputId": "8af86aac-981a-4eda-bb23-3d028769fb2c"
      },
      "source": [
        "max([max(sequence) for sequence in train_data])"
      ],
      "execution_count": null,
      "outputs": [
        {
          "output_type": "execute_result",
          "data": {
            "text/plain": [
              "9999"
            ]
          },
          "metadata": {
            "tags": []
          },
          "execution_count": 5
        }
      ]
    },
    {
      "cell_type": "markdown",
      "metadata": {
        "id": "YLR3mOxcEupB"
      },
      "source": [
        "# Verileri Hazırlamak"
      ]
    },
    {
      "cell_type": "markdown",
      "metadata": {
        "id": "p-0VatCsFMHp"
      },
      "source": [
        "İçerisinde sayı bulunan listeleri sinir ağlarına gönderemezsiniz.Listelerinizi tensörlere dönüştürmelisiniz.\n",
        "\n",
        "\n",
        "* Listenizi bir-eleman-bir(one-hot) olarak kodlayın.Bu şu anlama geliyor:Diyelim elinizde [3,5] olan bir dizi olsun.Bu diziyi 10000 boyutlu 3'üncü ve 5'inci indeks değerleri 1 diğer hepsi 0 olacak şekilde bir vektör oluşturun.Şimdi `Dense` katmanı gibi bir katmanı kulllanabilirsiniz.  \n",
        "\n"
      ]
    },
    {
      "cell_type": "code",
      "metadata": {
        "id": "kdUyxXSwEYt2"
      },
      "source": [
        "#Tam sayı dizilerini ikili matris olarak kodlamak\n",
        "\n",
        "import numpy as np\n",
        "\n",
        "def vectorize_sequences(sequences,dimension=10000):\n",
        "  results=np.zeros((len(sequences),dimension)) #(len(sequences),dimension) şeklinde tüm elemanları 0 olan matris oluşturur.\n",
        "  for i, sequence in enumerate(sequences):\n",
        "    results[i,sequence]=1. #results[i]'nin istenen indekslerini 1 yapar.      \n",
        "  return results\n",
        "\n",
        "x_train=vectorize_sequences(train_data) #eğitim vektör verisi\n",
        "x_test=vectorize_sequences(test_data) #test vektör verisi  \n"
      ],
      "execution_count": null,
      "outputs": []
    },
    {
      "cell_type": "code",
      "metadata": {
        "colab": {
          "base_uri": "https://localhost:8080/"
        },
        "id": "fXfHpTw3JOhI",
        "outputId": "6d91e79c-6da4-4f09-90ce-8610f7305a74"
      },
      "source": [
        "x_train[0]\n"
      ],
      "execution_count": null,
      "outputs": [
        {
          "output_type": "execute_result",
          "data": {
            "text/plain": [
              "array([0., 1., 1., ..., 0., 0., 0.])"
            ]
          },
          "metadata": {
            "tags": []
          },
          "execution_count": 7
        }
      ]
    },
    {
      "cell_type": "code",
      "metadata": {
        "id": "rpANYW4AKpm9"
      },
      "source": [
        "#Etiketlerimizi de vektör haline getirebilirsiniz:\n",
        "\n",
        "y_train=np.asarray(train_labels).astype(\"float32\")\n",
        "y_test=np.asarray(test_labels).astype(\"float32\")"
      ],
      "execution_count": null,
      "outputs": []
    },
    {
      "cell_type": "markdown",
      "metadata": {
        "id": "cS7PqT5cGoKp"
      },
      "source": [
        "# Model Tanımı"
      ]
    },
    {
      "cell_type": "code",
      "metadata": {
        "id": "j3hAsUWpL3iO"
      },
      "source": [
        "from keras import models\n",
        "from keras import layers\n",
        "\n",
        "model=models.Sequential()\n",
        "model.add(layers.Dense(16,activation=\"relu\",input_shape=(10000,)))\n",
        "model.add(layers.Dense(16,activation=\"relu\"))\n",
        "model.add(layers.Dense(1,activation=\"sigmoid\"))"
      ],
      "execution_count": null,
      "outputs": []
    },
    {
      "cell_type": "markdown",
      "metadata": {
        "id": "kpnEqIJNH7Xx"
      },
      "source": [
        "Modelin Derlenmesi\n",
        "\n",
        "Eniyileme Algoritması:"
      ]
    },
    {
      "cell_type": "code",
      "metadata": {
        "id": "GfvfaxRUHPLH"
      },
      "source": [
        "model.compile(optimizer=\"rmsprop\",\n",
        "              loss=\"binary_crossentropy\",\n",
        "              metrics=[\"accuracy\"])"
      ],
      "execution_count": null,
      "outputs": []
    },
    {
      "cell_type": "markdown",
      "metadata": {
        "id": "ByJzX3AfI1ok"
      },
      "source": [
        "### Doğrulama Veri Seti Oluşturmak:\n",
        "\n",
        "Eğitim başarımını ölçmek için ağın daha önce hiç görmediği özgün veri setinden 10000 örnekten oluşan `doğrulama(validation)` seti oluşturacaksınız."
      ]
    },
    {
      "cell_type": "code",
      "metadata": {
        "id": "FDeToSDrIOJF"
      },
      "source": [
        "x_val=x_train[:10000]\n",
        "partial_x_train=x_train[10000:]\n",
        "\n",
        "y_val=y_train[:10000]\n",
        "partial_y_train=y_train[10000:]"
      ],
      "execution_count": null,
      "outputs": []
    },
    {
      "cell_type": "markdown",
      "metadata": {
        "id": "Vv0Wz6-eJ6ij"
      },
      "source": [
        "# Modeli Eğitmek\n",
        "\n",
        "Şimdi modelinizi 20 epokta, 512'lik mini-yığınlar kullanarak eğiteceksiniz.Aynı zamanda kayıp değerini ve ağ başarımını ayırdığınız doğrulama veri setinde gözlemleyeceksiniz.Bunu doğrulama veri setini `validation_data` parametresine göndererek yapacaksınız."
      ]
    },
    {
      "cell_type": "code",
      "metadata": {
        "colab": {
          "base_uri": "https://localhost:8080/"
        },
        "id": "ty_jXPUXJmwW",
        "outputId": "bb64a3e0-674a-42a4-b8a1-82480f9a0d46"
      },
      "source": [
        "model.compile(optimizer=\"rmsprop\",\n",
        "              loss=\"binary_crossentropy\",\n",
        "              metrics=[\"acc\"])\n",
        "\n",
        "history=model.fit(partial_x_train,\n",
        "                  partial_y_train,\n",
        "                  epochs=20,\n",
        "                  batch_size=512,\n",
        "                  validation_data=(x_val,y_val))"
      ],
      "execution_count": null,
      "outputs": [
        {
          "output_type": "stream",
          "text": [
            "Epoch 1/20\n",
            "30/30 [==============================] - 2s 55ms/step - loss: 0.5556 - acc: 0.7692 - val_loss: 0.4345 - val_acc: 0.8442\n",
            "Epoch 2/20\n",
            "30/30 [==============================] - 1s 33ms/step - loss: 0.3450 - acc: 0.9001 - val_loss: 0.3358 - val_acc: 0.8752\n",
            "Epoch 3/20\n",
            "30/30 [==============================] - 1s 35ms/step - loss: 0.2506 - acc: 0.9199 - val_loss: 0.2878 - val_acc: 0.8925\n",
            "Epoch 4/20\n",
            "30/30 [==============================] - 1s 33ms/step - loss: 0.1940 - acc: 0.9403 - val_loss: 0.2859 - val_acc: 0.8847\n",
            "Epoch 5/20\n",
            "30/30 [==============================] - 1s 34ms/step - loss: 0.1591 - acc: 0.9505 - val_loss: 0.2871 - val_acc: 0.8867\n",
            "Epoch 6/20\n",
            "30/30 [==============================] - 1s 34ms/step - loss: 0.1321 - acc: 0.9604 - val_loss: 0.2907 - val_acc: 0.8832\n",
            "Epoch 7/20\n",
            "30/30 [==============================] - 1s 33ms/step - loss: 0.1092 - acc: 0.9692 - val_loss: 0.3043 - val_acc: 0.8844\n",
            "Epoch 8/20\n",
            "30/30 [==============================] - 1s 33ms/step - loss: 0.0907 - acc: 0.9746 - val_loss: 0.3345 - val_acc: 0.8808\n",
            "Epoch 9/20\n",
            "30/30 [==============================] - 1s 33ms/step - loss: 0.0752 - acc: 0.9804 - val_loss: 0.3404 - val_acc: 0.8805\n",
            "Epoch 10/20\n",
            "30/30 [==============================] - 1s 32ms/step - loss: 0.0644 - acc: 0.9839 - val_loss: 0.3674 - val_acc: 0.8747\n",
            "Epoch 11/20\n",
            "30/30 [==============================] - 1s 34ms/step - loss: 0.0519 - acc: 0.9883 - val_loss: 0.3828 - val_acc: 0.8785\n",
            "Epoch 12/20\n",
            "30/30 [==============================] - 1s 34ms/step - loss: 0.0409 - acc: 0.9915 - val_loss: 0.4148 - val_acc: 0.8731\n",
            "Epoch 13/20\n",
            "30/30 [==============================] - 1s 35ms/step - loss: 0.0329 - acc: 0.9947 - val_loss: 0.4429 - val_acc: 0.8764\n",
            "Epoch 14/20\n",
            "30/30 [==============================] - 1s 33ms/step - loss: 0.0265 - acc: 0.9960 - val_loss: 0.4701 - val_acc: 0.8709\n",
            "Epoch 15/20\n",
            "30/30 [==============================] - 1s 34ms/step - loss: 0.0216 - acc: 0.9969 - val_loss: 0.5111 - val_acc: 0.8724\n",
            "Epoch 16/20\n",
            "30/30 [==============================] - 1s 33ms/step - loss: 0.0174 - acc: 0.9974 - val_loss: 0.5463 - val_acc: 0.8706\n",
            "Epoch 17/20\n",
            "30/30 [==============================] - 1s 33ms/step - loss: 0.0146 - acc: 0.9980 - val_loss: 0.5677 - val_acc: 0.8694\n",
            "Epoch 18/20\n",
            "30/30 [==============================] - 1s 33ms/step - loss: 0.0095 - acc: 0.9991 - val_loss: 0.5986 - val_acc: 0.8686\n",
            "Epoch 19/20\n",
            "30/30 [==============================] - 1s 33ms/step - loss: 0.0087 - acc: 0.9991 - val_loss: 0.6507 - val_acc: 0.8692\n",
            "Epoch 20/20\n",
            "30/30 [==============================] - 1s 33ms/step - loss: 0.0048 - acc: 0.9997 - val_loss: 0.6745 - val_acc: 0.8654\n"
          ],
          "name": "stdout"
        }
      ]
    },
    {
      "cell_type": "markdown",
      "metadata": {
        "id": "WBp5vvXPLdmJ"
      },
      "source": [
        "## Eğitim ve Doğruluk Kayıplarını Çizdirmek"
      ]
    },
    {
      "cell_type": "code",
      "metadata": {
        "colab": {
          "base_uri": "https://localhost:8080/"
        },
        "id": "Rcr-9wV2LprK",
        "outputId": "98395069-1e07-4534-8ce1-c4def5882206"
      },
      "source": [
        "history_dict=history.history\n",
        "history_dict.keys()"
      ],
      "execution_count": null,
      "outputs": [
        {
          "output_type": "execute_result",
          "data": {
            "text/plain": [
              "dict_keys(['loss', 'acc', 'val_loss', 'val_acc'])"
            ]
          },
          "metadata": {
            "tags": []
          },
          "execution_count": 14
        }
      ]
    },
    {
      "cell_type": "code",
      "metadata": {
        "colab": {
          "base_uri": "https://localhost:8080/",
          "height": 295
        },
        "id": "9c6DFFUTK_Gu",
        "outputId": "9ead4f75-45be-486a-af12-cb0ff2bac3b0"
      },
      "source": [
        "import matplotlib.pyplot as plt\n",
        "\n",
        "history_dict=history.history\n",
        "loss_values=history_dict[\"loss\"]\n",
        "val_loss_values=history_dict[\"val_loss\"]\n",
        "\n",
        "epochs=range(1,len(loss_values) + 1)\n",
        "\n",
        "plt.plot(epochs,loss_values,\"bo\",label=\"Eğitim Kaybı\") #\"bo\" mavi nokta için\n",
        "plt.plot(epochs,loss_values,\"b\",label=\"Doğruluk Kaybı\") #\"b\" mavi düz çizgi için\n",
        "plt.title(\"Eğitim ve Doğruluk Kaybı\")\n",
        "plt.xlabel(\"Epoklar\")\n",
        "plt.ylabel(\"Kayıp\")\n",
        "plt.legend()\n",
        "\n",
        "plt.show()"
      ],
      "execution_count": null,
      "outputs": [
        {
          "output_type": "display_data",
          "data": {
            "image/png": "[encoded data removed]",
            "text/plain": [
              "<Figure size 432x288 with 1 Axes>"
            ]
          },
          "metadata": {
            "tags": [],
            "needs_background": "light"
          }
        }
      ]
    },
    {
      "cell_type": "markdown",
      "metadata": {
        "id": "eayc_3K_M-s_"
      },
      "source": [
        "Eğitim ve Doğrulama Başarımını Çizdirmek"
      ]
    },
    {
      "cell_type": "code",
      "metadata": {
        "colab": {
          "base_uri": "https://localhost:8080/",
          "height": 295
        },
        "id": "U2b7ZxrrMvvl",
        "outputId": "6168ac51-15b6-4154-ea89-3142f81cf418"
      },
      "source": [
        "plt.clf() #şekli temizler\n",
        "\n",
        "acc=history_dict[\"acc\"]\n",
        "val_acc=history_dict[\"val_acc\"]\n",
        "plt.plot(epochs,acc,\"bo\",label=\"Eğitim Başarımı\")\n",
        "plt.plot(epochs,val_acc,\"b\",label=\"Doğruluk Başarımı\")\n",
        "plt.title(\"Eğitim ve Doğruluk Başarımı\")\n",
        "plt.xlabel(\"Epoklar\")\n",
        "plt.ylabel(\"Başarım\")\n",
        "plt.legend()\n",
        "\n",
        "plt.show()"
      ],
      "execution_count": null,
      "outputs": [
        {
          "output_type": "display_data",
          "data": {
            "image/png": "[encoded data removed]",
            "text/plain": [
              "<Figure size 432x288 with 1 Axes>"
            ]
          },
          "metadata": {
            "tags": [],
            "needs_background": "light"
          }
        }
      ]
    },
    {
      "cell_type": "code",
      "metadata": {
        "id": "FxzCYNoxN3iR"
      },
      "source": [
        ""
      ],
      "execution_count": null,
      "outputs": []
    }
  ]
}