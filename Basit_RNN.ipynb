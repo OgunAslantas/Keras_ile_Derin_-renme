{
  "nbformat": 4,
  "nbformat_minor": 0,
  "metadata": {
    "colab": {
      "name": "Basit_RNN.ipynb",
      "provenance": [],
      "collapsed_sections": []
    },
    "kernelspec": {
      "name": "python3",
      "display_name": "Python 3"
    },
    "accelerator": "GPU"
  },
  "cells": [
    {
      "cell_type": "markdown",
      "metadata": {
        "id": "-T0HmpNlDK49"
      },
      "source": [
        "## Basit bir Yinelemeli Sinir Ağını Numpy ile Oluşturmak"
      ]
    },
    {
      "cell_type": "code",
      "metadata": {
        "id": "tM-h0TwzIBrs"
      },
      "source": [
        "import numpy as np"
      ],
      "execution_count": null,
      "outputs": []
    },
    {
      "cell_type": "markdown",
      "metadata": {
        "id": "iuqEnWAPIMxn"
      },
      "source": [
        "\n",
        "\n",
        "* `timesteps` girişteki zaman adımı sayısı\n",
        "* `input_features` girdi nitelik uzayının boyutu\n",
        "* `output_features` çıktı nitelik uzayının boyutu.\n",
        "\n",
        "\n",
        "\n"
      ]
    },
    {
      "cell_type": "code",
      "metadata": {
        "id": "A3w4hsX1ILhB"
      },
      "source": [
        "timesteps=100\n",
        "input_features=32\n",
        "output_features=64"
      ],
      "execution_count": null,
      "outputs": []
    },
    {
      "cell_type": "markdown",
      "metadata": {
        "id": "TRkFRfDVI1jD"
      },
      "source": [
        "## Basit olması için girdi verisini ratgele gürültü olarak seçelim."
      ]
    },
    {
      "cell_type": "code",
      "metadata": {
        "id": "dj4lX_c4I0ls"
      },
      "source": [
        "inputs=np.random.random((timesteps,input_features))"
      ],
      "execution_count": null,
      "outputs": []
    },
    {
      "cell_type": "markdown",
      "metadata": {
        "id": "yfvenj8wJFJR"
      },
      "source": [
        "### Başlangıç durumu için tüm elemanları sıfırdan oluşan bir vektör oluşturalım."
      ]
    },
    {
      "cell_type": "code",
      "metadata": {
        "id": "z1Zb6I7TJEW8"
      },
      "source": [
        "state_t=np.zeros((output_features))"
      ],
      "execution_count": null,
      "outputs": []
    },
    {
      "cell_type": "markdown",
      "metadata": {
        "id": "hy3bRSpTJVY6"
      },
      "source": [
        "### Rastgele oluşturulan ağırlık matrisleri"
      ]
    },
    {
      "cell_type": "code",
      "metadata": {
        "id": "rew4-hOFJUrw"
      },
      "source": [
        "w=np.random.random((output_features,input_features))\n",
        "u=np.random.random((output_features,output_features))\n",
        "b=np.random.random((output_features))"
      ],
      "execution_count": null,
      "outputs": []
    },
    {
      "cell_type": "markdown",
      "metadata": {
        "id": "6On0cfp2Jv3m"
      },
      "source": [
        "### Girdi ve mevcut duruma göre çıktının oluşturulması"
      ]
    },
    {
      "cell_type": "code",
      "metadata": {
        "id": "6GYsGyPPJpjQ"
      },
      "source": [
        "successive_outputs=[]\n",
        "\n",
        "for input_t in inputs:\n",
        "  output_t=np.tanh(np.dot(w,input_t)+np.dot(u,state_t)+b)\n",
        "  successive_outputs.append(output_t)\n",
        "  state_t=output_features\n",
        "\n",
        "final_output_sequence=np.concatenate(successive_outputs,axis=0)"
      ],
      "execution_count": null,
      "outputs": []
    },
    {
      "cell_type": "code",
      "metadata": {
        "id": "J30JRH4xKiaP"
      },
      "source": [
        "output_t=np.tanh(np.dot(w,input_t)+np.dot(u,state_t)+b)"
      ],
      "execution_count": null,
      "outputs": []
    },
    {
      "cell_type": "code",
      "metadata": {
        "id": "xjWJ0I0XLFs5",
        "outputId": "4aab6023-1e18-452e-873d-ee700b02c8f8",
        "colab": {
          "base_uri": "https://localhost:8080/",
          "height": 136
        }
      },
      "source": [
        "output_t"
      ],
      "execution_count": null,
      "outputs": [
        {
          "output_type": "execute_result",
          "data": {
            "text/plain": [
              "array([[1., 1., 1., ..., 1., 1., 1.],\n",
              "       [1., 1., 1., ..., 1., 1., 1.],\n",
              "       [1., 1., 1., ..., 1., 1., 1.],\n",
              "       ...,\n",
              "       [1., 1., 1., ..., 1., 1., 1.],\n",
              "       [1., 1., 1., ..., 1., 1., 1.],\n",
              "       [1., 1., 1., ..., 1., 1., 1.]])"
            ]
          },
          "metadata": {
            "tags": []
          },
          "execution_count": 10
        }
      ]
    },
    {
      "cell_type": "code",
      "metadata": {
        "id": "YcnpJeh4LHqb"
      },
      "source": [
        ""
      ],
      "execution_count": null,
      "outputs": []
    }
  ]
}