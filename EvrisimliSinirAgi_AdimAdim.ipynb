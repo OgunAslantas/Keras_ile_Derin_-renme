{
  "nbformat": 4,
  "nbformat_minor": 0,
  "metadata": {
    "colab": {
      "name": "EvrisimliSinirAgi_AdimAdim.ipynb",
      "provenance": [],
      "collapsed_sections": []
    },
    "kernelspec": {
      "name": "python3",
      "display_name": "Python 3"
    },
    "accelerator": "GPU"
  },
  "cells": [
    {
      "cell_type": "code",
      "metadata": {
        "id": "zj8BNuAiLhrC"
      },
      "source": [
        "import numpy as np\n",
        "import h5py\n",
        "import matplotlib.pyplot as plt\n",
        "\n",
        "plt.rcParams['figure.figsize']=(5.0,4.0)\n",
        "plt.rcParams['image.interpolation']='nearest'\n",
        "plt.rcParams['image.cmap']='gray'\n",
        "\n",
        "np.random.seed(1)"
      ],
      "execution_count": null,
      "outputs": []
    },
    {
      "cell_type": "code",
      "metadata": {
        "id": "diNbL17Sj3tb"
      },
      "source": [
        "def zero_pad(X,pad):#piksel doldurma\n",
        "   X_pad=np.pad(X,((0,0),(pad,pad),(pad,pad),(0,0)),'constant',constant_values=0)\n",
        "   return X_pad"
      ],
      "execution_count": null,
      "outputs": []
    },
    {
      "cell_type": "code",
      "metadata": {
        "id": "RgN_kVilkerM",
        "colab": {
          "base_uri": "https://localhost:8080/",
          "height": 514
        },
        "outputId": "05b58260-655c-45f6-eab5-e11db09e001e"
      },
      "source": [
        "np.random.seed(1)\n",
        "x=np.random.randn(4,3,3,2)\n",
        "x_pad=zero_pad(x, 2)\n",
        "\n",
        "print('x.shape=',x.shape)\n",
        "print(\"x_pad.shape=\",x_pad[1,1])\n",
        "print(\"x[1,1=\",x[1,1])\n",
        "print(\"x_pad[1,1]=\",x_pad[1,1])\n",
        "\n",
        "fig,axarr=plt.subplots(1,2) #birden fazla grafik için=subplot\n",
        "axarr[0].set_title('x')\n",
        "axarr[0].imshow(x[0,:,:,0])\n",
        "axarr[1].set_title('x_ped')\n",
        "axarr[1].imshow(x_pad[0,:,:,0])"
      ],
      "execution_count": null,
      "outputs": [
        {
          "output_type": "stream",
          "text": [
            "x.shape= (4, 3, 3, 2)\n",
            "x_pad.shape= [[0. 0.]\n",
            " [0. 0.]\n",
            " [0. 0.]\n",
            " [0. 0.]\n",
            " [0. 0.]\n",
            " [0. 0.]\n",
            " [0. 0.]]\n",
            "x[1,1= [[ 0.90085595 -0.68372786]\n",
            " [-0.12289023 -0.93576943]\n",
            " [-0.26788808  0.53035547]]\n",
            "x_pad[1,1]= [[0. 0.]\n",
            " [0. 0.]\n",
            " [0. 0.]\n",
            " [0. 0.]\n",
            " [0. 0.]\n",
            " [0. 0.]\n",
            " [0. 0.]]\n"
          ],
          "name": "stdout"
        },
        {
          "output_type": "execute_result",
          "data": {
            "text/plain": [
              "<matplotlib.image.AxesImage at 0x7f3c2a2247b8>"
            ]
          },
          "metadata": {
            "tags": []
          },
          "execution_count": 4
        },
        {
          "output_type": "display_data",
          "data": {
            "image/png": "[encoded data removed]",
            "text/plain": [
              "<Figure size 360x288 with 2 Axes>"
            ]
          },
          "metadata": {
            "tags": [],
            "needs_background": "light"
          }
        }
      ]
    },
    {
      "cell_type": "code",
      "metadata": {
        "id": "j_BM56sTleFj"
      },
      "source": [
        "def conv_single_step(a_slice_prev,w,b):\n",
        "\n",
        "  s=np.multiply(a_slice_prev,w)\n",
        "\n",
        "  Z=np.sum(s)\n",
        "\n",
        "  Z=float(b)+Z\n",
        "\n",
        "  return Z "
      ],
      "execution_count": null,
      "outputs": []
    },
    {
      "cell_type": "code",
      "metadata": {
        "id": "cr__yExGDGl6",
        "colab": {
          "base_uri": "https://localhost:8080/",
          "height": 34
        },
        "outputId": "88d73476-15db-429c-afc4-a1f8d3e6b513"
      },
      "source": [
        "np.random.seed(1)\n",
        "a_slice_prev=np.random.randn(4,4,3)\n",
        "\n",
        "w=np.random.randn(4,4,3)\n",
        "\n",
        "b=np.random.randn(1,1,1)\n",
        "\n",
        "Z=conv_single_step(a_slice_prev,w,b)\n",
        "print(\"Z=\",Z)  #giriş matrislerin filtrelerle çarpılmış , bias(?) değerlerle toplanmış hali"
      ],
      "execution_count": null,
      "outputs": [
        {
          "output_type": "stream",
          "text": [
            "Z= -6.999089450680221\n"
          ],
          "name": "stdout"
        }
      ]
    },
    {
      "cell_type": "code",
      "metadata": {
        "id": "gs6776pQDdRI"
      },
      "source": [
        "#ileri yönlü hesaplama:\n",
        "\n",
        "def conv_forward(A_prev,W,b,hparameters):\n",
        "\n",
        "  (m,n_H_prev,n_W_prev,n_C_prev)=A_prev.shape \n",
        "\n",
        "  (f,f, n_C_prev,n_C)=W.shape\n",
        "\n",
        "  stride=hparameters['stride']\n",
        "  pad=hparameters['pad']\n",
        "\n",
        "  n_H=int(((n_H_prev-f+2*pad)/stride)+1)  #evrişimin çıkış boyutu(yükseklik)\n",
        "  n_W=int(((n_W_prev-f+2*pad)/stride)+1)  #evrişimin çıkış boyutu(genişlik)\n",
        "\n",
        "  Z=np.zeros([m,n_H,n_W,n_C])   # Çıkış matrisini oluşturmak\n",
        "\n",
        "  A_prev_pad=zero_pad(A_prev,pad)  \n",
        "\n",
        "  for i in range(m):             # giriş matrisine piksel ekleme\n",
        "    a_prev_pad=A_prev_pad[i]\n",
        "    for h in range(n_H):\n",
        "      for w in range(n_W):\n",
        "        for c in range(n_C):\n",
        "\n",
        "          vert_start=h*stride\n",
        "          vert_end=vert_start +f\n",
        "          horiz_start=w*stride\n",
        "          horiz_end=horiz_start +f\n",
        "\n",
        "          a_slice_prev=a_prev_pad[vert_start:vert_end,horiz_start:horiz_end]\n",
        "\n",
        "          #Evrişimin yapılacağı kısım:\n",
        "\n",
        "          Z[i,h,w,c]=conv_single_step(a_slice_prev,W[...,c],b[...,c])\n",
        "\n",
        "  assert(Z.shape==(m,n_H,n_W,n_C))\n",
        "\n",
        "  cache=(A_prev,W,b,hparameters)\n",
        "\n",
        "  return Z,cache\n",
        "\n",
        "\n"
      ],
      "execution_count": null,
      "outputs": []
    },
    {
      "cell_type": "code",
      "metadata": {
        "id": "sgOmy-HdHSd0",
        "colab": {
          "base_uri": "https://localhost:8080/",
          "height": 85
        },
        "outputId": "0e852a7f-f681-4e80-c7a8-d006ae6321f0"
      },
      "source": [
        "#ekranda gösterme işlmei:\n",
        "\n",
        "np.random.seed(1)\n",
        "A_prev=np.random.randn(10,4,4,3)\n",
        "W=np.random.randn(2,2,3,8)\n",
        "b=np.random.randn(1,1,1,8)\n",
        "\n",
        "hparameters={\"pad\" :2,\n",
        "             \"stride\" :2}\n",
        "\n",
        "Z,cache_conv=conv_forward(A_prev,W,b,hparameters)\n",
        "\n",
        "print(\"Z'nin ortalama=\",np.mean(Z))\n",
        "print(\"Z[3,2,1]=\",Z[3,2,1])\n",
        "print(\"cache_conv[0][1][2][3]=\",cache_conv[0][1][2][3])"
      ],
      "execution_count": null,
      "outputs": [
        {
          "output_type": "stream",
          "text": [
            "Z'nin ortalama= 0.048995203528855794\n",
            "Z[3,2,1]= [-0.61490741 -6.7439236  -2.55153897  1.75698377  3.56208902  0.53036437\n",
            "  5.18531798  8.75898442]\n",
            "cache_conv[0][1][2][3]= [-0.20075807  0.18656139  0.41005165]\n"
          ],
          "name": "stdout"
        }
      ]
    },
    {
      "cell_type": "code",
      "metadata": {
        "id": "Vhih3KexIchL"
      },
      "source": [
        "#ortaklama katamanı:\n",
        "def pool_forward(A_prev,hparameters,mode=\"max\"): # max ortaklama olacak\n",
        "  (m,n_H_prev,n_W_prev,n_C_prev)=A_prev.shape    #giriş değerlerinin boyutları\n",
        "\n",
        "  f=hparameters[\"f\"]               \n",
        "  stride=hparameters[\"stride\"]\n",
        "\n",
        "  n_H=int(1+(n_H_prev-f)/stride)          # çıkış değerlerinin boyutları(genişlik)\n",
        "  n_W=int(1+(n_W_prev-f)/stride)           # çıkış değerlerinin boyutları(yükseklik)\n",
        "  n_C=n_C_prev\n",
        "\n",
        "  A=np.zeros((m,n_H,n_W,n_C))\n",
        "\n",
        "  for i in range(m):\n",
        "    for h in range(n_H):\n",
        "      for w in range(n_W):\n",
        "        for c in range(n_C):\n",
        "\n",
        "          vert_start=h*stride\n",
        "          vert_end=vert_start +f\n",
        "          horiz_start=w*stride\n",
        "          horiz_end=horiz_start +f\n",
        "\n",
        "          a_prev_slic=A_prev[i,vert_start:vert_end,horiz_start:horiz_end,c]\n",
        "\n",
        "          if mode==\"max\":\n",
        "            A[i,h,w,c]=np.max(a_prev_slic)\n",
        "          elif mode==\"average\":\n",
        "            A[i,h,w,c]=np.mean(a_prev_slic)\n",
        "  \n",
        "  cache=(A_prev,hparameters)\n",
        "\n",
        "  assert(A.shape==(m,n_H,n_W,n_C))\n",
        "\n",
        "  return A,cache\n",
        "\n",
        "            \n"
      ],
      "execution_count": null,
      "outputs": []
    },
    {
      "cell_type": "code",
      "metadata": {
        "id": "3H7wXE-aUcmE",
        "colab": {
          "base_uri": "https://localhost:8080/",
          "height": 187
        },
        "outputId": "c607e22a-113c-47bb-84a3-26b0843b3898"
      },
      "source": [
        "#değerleri ekranda gösterelim:\n",
        "\n",
        "np.random.seed(1)\n",
        "\n",
        "A_prev=np.random.randn(2,4,4,3)\n",
        "hparameters={\"stride\":2,\"f\":3}\n",
        "\n",
        "A,cache=pool_forward(A_prev,hparameters)\n",
        "\n",
        "print(\"mod=max\")\n",
        "print(\"A=\",A)\n",
        "\n",
        "A,cache=pool_forward(A_prev,hparameters,mode=\"average\")\n",
        "\n",
        "print(\"mod=average\")\n",
        "print(\"A=\",A)"
      ],
      "execution_count": null,
      "outputs": [
        {
          "output_type": "stream",
          "text": [
            "mod=max\n",
            "A= [[[[1.74481176 0.86540763 1.13376944]]]\n",
            "\n",
            "\n",
            " [[[1.13162939 1.51981682 2.18557541]]]]\n",
            "mod=average\n",
            "A= [[[[ 0.02105773 -0.20328806 -0.40389855]]]\n",
            "\n",
            "\n",
            " [[[-0.22154621  0.51716526  0.48155844]]]]\n"
          ],
          "name": "stdout"
        }
      ]
    },
    {
      "cell_type": "code",
      "metadata": {
        "id": "ViRifytNVK6v"
      },
      "source": [
        "#geriye yayılım algoritması(Türev alma):\n",
        "\n",
        "def conv_bacward(dZ,cache):\n",
        "\n",
        "  (A_prev,W,b,hparameters)=cache\n",
        "\n",
        "  (m,n_H_prev,n_W_prev,n_C_prev)=A_prev.shape\n",
        "\n",
        "  (f,f,n_C_prev,n_C)=W.shape\n",
        "\n",
        "  stride=hparameters['stride']\n",
        "  pad=hparameters['pad']\n",
        "\n",
        "  (m,n_H,n_W,n_C)=dZ.shape\n",
        "\n",
        "  dA_prev=np.zeros((m,n_H_prev,n_W_prev,n_C_prev))\n",
        "  dW=np.zeros((f,f,n_C_prev,n_C))\n",
        "  db=np.zeros((1,1,1,n_C))\n",
        "\n",
        "  A_prev_pad=zero_pad(A_prev,pad)\n",
        "  dA_prev_pad=zero_pad(dA_prev,pad)\n",
        "\n",
        "  for i in range(m):\n",
        "    a_prev_pad=A_prev[i]\n",
        "    da_prev_pad=dA_prev_pad[i]\n",
        "\n",
        "    for h in range(n_H):\n",
        "      for w in range(n_W):\n",
        "        for c in range(n_C):\n",
        "\n",
        "          vert_start=h\n",
        "          vert_end=vert_start +f\n",
        "          horiz_start=w\n",
        "          horiz_end=horiz_start +f\n",
        "\n",
        "          a_slice=a_prev_pad[vert_start:vert_end,horiz_start:horiz_end,:]\n",
        "\n",
        "          da_prev_pad[vert_start:vert_end,horiz_start:horiz_end,:]+= W[:,:,:,c]*dZ[i,h,w,c]\n",
        "\n",
        "          dW[:,:,:,c]+=a_slice*dZ[i,h,w,c]\n",
        "          db[:,:,:,c]+=dZ[i,h,w,c]\n",
        "      dA_prev[i,:,:,:]=da_prev_pad[pad:-pad,pad:-pad,:]\n",
        "    assert(dA_prev.shape==(m,n_H_prev,n_W_prev,n_C_prev))\n",
        "\n",
        "    return dA_prev,dW,db\n",
        "        \n"
      ],
      "execution_count": null,
      "outputs": []
    },
    {
      "cell_type": "code",
      "metadata": {
        "id": "JNoSnuZhbGhE",
        "colab": {
          "base_uri": "https://localhost:8080/",
          "height": 68
        },
        "outputId": "a046e26f-021c-4363-8856-6977a898330f"
      },
      "source": [
        "#ekrana yazdırma:\n",
        "\n",
        "np.random.seed(1)\n",
        "\n",
        "dA,dW,db=conv_bacward(Z,cache_conv)\n",
        "\n",
        "print('dA ortalama=',np.mean(dA))\n",
        "print('dW ortalama=',np.mean(dW))\n",
        "print('db ortalama=',np.mean(db))"
      ],
      "execution_count": null,
      "outputs": [
        {
          "output_type": "stream",
          "text": [
            "dA ortalama= -0.11917170680406913\n",
            "dW ortalama= 0.6112904256489943\n",
            "db ortalama= -1.2449234461925227\n"
          ],
          "name": "stdout"
        }
      ]
    },
    {
      "cell_type": "code",
      "metadata": {
        "id": "w0BREf7IblQZ"
      },
      "source": [
        "#filte tanımlayalım:\n",
        "\n",
        "def create_mask_from_window(x):\n",
        "  mask=x==np.max(x)\n",
        "  return mask"
      ],
      "execution_count": null,
      "outputs": []
    },
    {
      "cell_type": "code",
      "metadata": {
        "id": "HySjfO7VeQs2",
        "colab": {
          "base_uri": "https://localhost:8080/",
          "height": 85
        },
        "outputId": "4774677d-bab5-4946-a050-029a87a21f4a"
      },
      "source": [
        "np.random.seed(1)\n",
        "x=np.random.randn(2,3)\n",
        "mask=create_mask_from_window(x)\n",
        "\n",
        "print(\"x=\",x)\n",
        "print(\"maske=\",mask)"
      ],
      "execution_count": null,
      "outputs": [
        {
          "output_type": "stream",
          "text": [
            "x= [[ 1.62434536 -0.61175641 -0.52817175]\n",
            " [-1.07296862  0.86540763 -2.3015387 ]]\n",
            "maske= [[ True False False]\n",
            " [False False False]]\n"
          ],
          "name": "stdout"
        }
      ]
    },
    {
      "cell_type": "code",
      "metadata": {
        "id": "DNEXhGahefmK"
      },
      "source": [
        "def distribute_value(dZ,shape):\n",
        "  (n_H,n_W)=shape\n",
        "\n",
        "  average=dZ/(n_H*n_W)\n",
        "  a=np.ones(shape)*average\n",
        "\n",
        "  return a\n"
      ],
      "execution_count": null,
      "outputs": []
    },
    {
      "cell_type": "code",
      "metadata": {
        "id": "YmquDiS_e1hO",
        "colab": {
          "base_uri": "https://localhost:8080/",
          "height": 51
        },
        "outputId": "4baabd96-f047-446e-ba5e-5c9fd60a9830"
      },
      "source": [
        "a=distribute_value(2,(2,2))\n",
        "print('dağıtılmış değer=',a)"
      ],
      "execution_count": null,
      "outputs": [
        {
          "output_type": "stream",
          "text": [
            "dağıtılmış değer= [[0.5 0.5]\n",
            " [0.5 0.5]]\n"
          ],
          "name": "stdout"
        }
      ]
    },
    {
      "cell_type": "code",
      "metadata": {
        "id": "jQyPGEEMe9tM"
      },
      "source": [
        "def pool_backward(dA,cache,mode=\"max\"):\n",
        "  (A_prev,hparameters)=cache\n",
        "\n",
        "  stride=hparameters['stride']\n",
        "  f=hparameters['f']\n",
        "\n",
        "  m,n_H_prev,n_W_prev,n_C_prev=A_prev.shape\n",
        "\n",
        "  m,n_H,n_W,n_C=dA.shape\n",
        "\n",
        "  dA_prev=np.zeros(A_prev.shape)\n",
        "\n",
        "  for i in range(m):\n",
        "    a_prev=A_prev[i]\n",
        "\n",
        "    for h in range(n_H):\n",
        "      for w in range(n_W):\n",
        "        for c in range(n_C):\n",
        "\n",
        "          vert_start=h\n",
        "          vert_end=vert_start +f\n",
        "          horiz_start=w\n",
        "          horiz_end=horiz_start +f\n",
        "\n",
        "          if mode==\"max\":\n",
        "            a_prev_slice=a_prev[vert_start:vert_end,horiz_start:horiz_end,c]\n",
        "            mask=create_mask_from_window(a_prev_slice)\n",
        "            dA_prev[i,vert_start:vert_end,horiz_start:horiz_end,c]+=np.multiply(mask,dA[i,h,w,c])\n",
        "\n",
        "\n",
        "          elif mode==\"averange\":\n",
        "            da=dA[i,h,w,c]\n",
        "            shape=(f,f)\n",
        "            dA_prev[i,vert_start:vert_end,horiz_start:horiz_end,c]+=distribute_value(da,shape)\n",
        "      \n",
        "      assert(dA_prev.shape==A_prev.shape)\n",
        "      return dA_prev\n",
        "\n",
        "\n"
      ],
      "execution_count": null,
      "outputs": []
    },
    {
      "cell_type": "code",
      "metadata": {
        "id": "CbbLKR2IhkKu",
        "colab": {
          "base_uri": "https://localhost:8080/",
          "height": 187
        },
        "outputId": "57e1800c-ef9e-47a9-cdf0-041f1d7a7d87"
      },
      "source": [
        "np.random.seed(1)\n",
        "\n",
        "A_prev=np.random.randn(5,5,3,2)\n",
        "hparameters={\"stride\":1,\"f\":2}\n",
        "A,cache=pool_forward(A_prev,hparameters)\n",
        "dA=np.random.randn(5,4,2,2)\n",
        "\n",
        "dA_prev=pool_backward(dA,cache,mode=\"max\")\n",
        "\n",
        "print(\"mod=max\")\n",
        "print('dA ortalaması=',np.mean(dA))\n",
        "print('dA_prev[1,1]',dA_prev[1,1])\n",
        "\n",
        "dA_prev=pool_backward(dA,cache,mode=\"average\")\n",
        "\n",
        "print(\"mod=average\")\n",
        "print('dA ortalaması=',np.mean(dA))\n",
        "print('dA_prev[1,1]',dA_prev[1,1])"
      ],
      "execution_count": null,
      "outputs": [
        {
          "output_type": "stream",
          "text": [
            "mod=max\n",
            "dA ortalaması= 0.14571390272918056\n",
            "dA_prev[1,1] [[0. 0.]\n",
            " [0. 0.]\n",
            " [0. 0.]]\n",
            "mod=average\n",
            "dA ortalaması= 0.14571390272918056\n",
            "dA_prev[1,1] [[0. 0.]\n",
            " [0. 0.]\n",
            " [0. 0.]]\n"
          ],
          "name": "stdout"
        }
      ]
    },
    {
      "cell_type": "code",
      "metadata": {
        "id": "vvA82O3vTBrs"
      },
      "source": [
        ""
      ],
      "execution_count": null,
      "outputs": []
    }
  ]
}