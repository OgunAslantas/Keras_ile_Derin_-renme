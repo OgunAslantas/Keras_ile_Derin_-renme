{
  "nbformat": 4,
  "nbformat_minor": 0,
  "metadata": {
    "colab": {
      "name": "Keras_F_API.ipynb",
      "provenance": [],
      "collapsed_sections": []
    },
    "kernelspec": {
      "name": "python3",
      "display_name": "Python 3"
    }
  },
  "cells": [
    {
      "cell_type": "markdown",
      "metadata": {
        "id": "tKVigjGz2QsX"
      },
      "source": [
        "Kimlik Doğrulama"
      ]
    },
    {
      "cell_type": "code",
      "metadata": {
        "id": "6Oc0LxS-2Djj",
        "outputId": "b9afff20-46fb-4a9c-dd83-e78487bce7ea",
        "colab": {
          "base_uri": "https://localhost:8080/",
          "height": 51
        }
      },
      "source": [
        "from google.colab import drive\n",
        "drive.mount('/gdrive')\n",
        "%cd /gdrive"
      ],
      "execution_count": null,
      "outputs": [
        {
          "output_type": "stream",
          "text": [
            "Mounted at /gdrive\n",
            "/gdrive\n"
          ],
          "name": "stdout"
        }
      ]
    },
    {
      "cell_type": "markdown",
      "metadata": {
        "id": "cVLK-Ewl2tND"
      },
      "source": [
        "Kütüphanelerin Kurulumu:"
      ]
    },
    {
      "cell_type": "code",
      "metadata": {
        "id": "pn3cVHTq2eED"
      },
      "source": [
        "from keras import Input,layers"
      ],
      "execution_count": null,
      "outputs": []
    },
    {
      "cell_type": "code",
      "metadata": {
        "id": "_kgt0zmZ24j2"
      },
      "source": [
        "input_tensor=Input((32,))\n",
        "dense=layers.Dense(32,activation='relu')\n",
        "output_tensor=dense(input_tensor)"
      ],
      "execution_count": null,
      "outputs": []
    },
    {
      "cell_type": "code",
      "metadata": {
        "id": "42KxQ-G53PqU"
      },
      "source": [
        "from keras.models import Sequential,Model"
      ],
      "execution_count": null,
      "outputs": []
    },
    {
      "cell_type": "markdown",
      "metadata": {
        "id": "vWK0bvmZ3f3q"
      },
      "source": [
        "Sequential Model"
      ]
    },
    {
      "cell_type": "code",
      "metadata": {
        "id": "P8dcl5dt3e44",
        "outputId": "ab16d3bb-b432-402e-89e5-46149caf173e",
        "colab": {
          "base_uri": "https://localhost:8080/",
          "height": 255
        }
      },
      "source": [
        "seq_model=Sequential()\n",
        "seq_model.add(layers.Dense(32,activation='relu',input_shape=(64, )))\n",
        "seq_model.add(layers.Dense(32,activation='relu'))\n",
        "seq_model.add(layers.Dense(10,activation='softmax'))\n",
        "\n",
        "seq_model.summary()"
      ],
      "execution_count": null,
      "outputs": [
        {
          "output_type": "stream",
          "text": [
            "Model: \"sequential\"\n",
            "_________________________________________________________________\n",
            "Layer (type)                 Output Shape              Param #   \n",
            "=================================================================\n",
            "dense_3 (Dense)              (None, 32)                2080      \n",
            "_________________________________________________________________\n",
            "dense_4 (Dense)              (None, 32)                1056      \n",
            "_________________________________________________________________\n",
            "dense_5 (Dense)              (None, 10)                330       \n",
            "=================================================================\n",
            "Total params: 3,466\n",
            "Trainable params: 3,466\n",
            "Non-trainable params: 0\n",
            "_________________________________________________________________\n"
          ],
          "name": "stdout"
        }
      ]
    },
    {
      "cell_type": "markdown",
      "metadata": {
        "id": "VCg7YtpV4p2n"
      },
      "source": [
        "functional Model"
      ]
    },
    {
      "cell_type": "code",
      "metadata": {
        "id": "Diaw8BfY3-V_",
        "outputId": "dff3769b-dd13-4bbc-ca95-47def5cf79c9",
        "colab": {
          "base_uri": "https://localhost:8080/",
          "height": 289
        }
      },
      "source": [
        "input_tensor=Input(shape=64,)\n",
        "\n",
        "x=layers.Dense(32,activation='relu')(input_tensor)\n",
        "\n",
        "x=layers.Dense(32,activation='relu')(x)\n",
        "\n",
        "output_tensor=layers.Dense(10,activation='softmax')(x)\n",
        "\n",
        "model=Model(input_tensor,output_tensor)\n",
        "\n",
        "model.summary()"
      ],
      "execution_count": null,
      "outputs": [
        {
          "output_type": "stream",
          "text": [
            "Model: \"functional_1\"\n",
            "_________________________________________________________________\n",
            "Layer (type)                 Output Shape              Param #   \n",
            "=================================================================\n",
            "input_2 (InputLayer)         [(None, 64)]              0         \n",
            "_________________________________________________________________\n",
            "dense_6 (Dense)              (None, 32)                2080      \n",
            "_________________________________________________________________\n",
            "dense_7 (Dense)              (None, 32)                1056      \n",
            "_________________________________________________________________\n",
            "dense_8 (Dense)              (None, 10)                330       \n",
            "=================================================================\n",
            "Total params: 3,466\n",
            "Trainable params: 3,466\n",
            "Non-trainable params: 0\n",
            "_________________________________________________________________\n"
          ],
          "name": "stdout"
        }
      ]
    },
    {
      "cell_type": "markdown",
      "metadata": {
        "id": "2Pq0k8e15Vd9"
      },
      "source": [
        "Modelin Derlenmesi"
      ]
    },
    {
      "cell_type": "code",
      "metadata": {
        "id": "KOyfYQ8S5Tsy"
      },
      "source": [
        "model.compile(optimizer='rmsprop',loss='categorical_crossentropy')"
      ],
      "execution_count": null,
      "outputs": []
    },
    {
      "cell_type": "markdown",
      "metadata": {
        "id": "TcdIdPel58sX"
      },
      "source": [
        "Eğitim için rastgele bir küme oluşturmak"
      ]
    },
    {
      "cell_type": "code",
      "metadata": {
        "id": "FRCraTmg5kVI"
      },
      "source": [
        "import numpy as np\n"
      ],
      "execution_count": null,
      "outputs": []
    },
    {
      "cell_type": "code",
      "metadata": {
        "id": "w4RYBgNc6CYQ"
      },
      "source": [
        "x_train=np.random.random((1000,64))\n",
        "y_train=np.random.random((1000,10))"
      ],
      "execution_count": null,
      "outputs": []
    },
    {
      "cell_type": "markdown",
      "metadata": {
        "id": "23NnrsPt6Qe7"
      },
      "source": [
        "Modelin eğitilmesi"
      ]
    },
    {
      "cell_type": "code",
      "metadata": {
        "id": "E_KWfwgU6P64",
        "outputId": "2e2acf9f-b4f5-493b-c058-c2afd8791834",
        "colab": {
          "base_uri": "https://localhost:8080/",
          "height": 374
        }
      },
      "source": [
        "model.fit(x_train,y_train,epochs=10,batch_size=128)\n",
        "\n",
        "score=model.evaluate(x_train,y_train)"
      ],
      "execution_count": null,
      "outputs": [
        {
          "output_type": "stream",
          "text": [
            "Epoch 1/10\n",
            "8/8 [==============================] - 0s 1ms/step - loss: 36.6319\n",
            "Epoch 2/10\n",
            "8/8 [==============================] - 0s 1ms/step - loss: 41.6610\n",
            "Epoch 3/10\n",
            "8/8 [==============================] - 0s 2ms/step - loss: 46.9580\n",
            "Epoch 4/10\n",
            "8/8 [==============================] - 0s 1ms/step - loss: 52.6348\n",
            "Epoch 5/10\n",
            "8/8 [==============================] - 0s 2ms/step - loss: 58.5626\n",
            "Epoch 6/10\n",
            "8/8 [==============================] - 0s 1ms/step - loss: 64.7812\n",
            "Epoch 7/10\n",
            "8/8 [==============================] - 0s 2ms/step - loss: 70.6259\n",
            "Epoch 8/10\n",
            "8/8 [==============================] - 0s 2ms/step - loss: 76.6696\n",
            "Epoch 9/10\n",
            "8/8 [==============================] - 0s 2ms/step - loss: 83.4949\n",
            "Epoch 10/10\n",
            "8/8 [==============================] - 0s 2ms/step - loss: 90.4691\n",
            "32/32 [==============================] - 0s 1ms/step - loss: 94.7816\n"
          ],
          "name": "stdout"
        }
      ]
    },
    {
      "cell_type": "markdown",
      "metadata": {
        "id": "WkfFlGYf7XOF"
      },
      "source": [
        "Dallanan **Model_KerasAPI** "
      ]
    },
    {
      "cell_type": "code",
      "metadata": {
        "id": "l9ikfOPc6Xzd"
      },
      "source": [
        "from keras.utils import plot_model\n",
        "from keras.models import Model\n"
      ],
      "execution_count": null,
      "outputs": []
    },
    {
      "cell_type": "code",
      "metadata": {
        "id": "TukdRRyS7tXH"
      },
      "source": [
        "visible=Input(shape=(64,64,1))"
      ],
      "execution_count": null,
      "outputs": []
    },
    {
      "cell_type": "code",
      "metadata": {
        "id": "RYOrHQ3D70BG"
      },
      "source": [
        "#1.evrişim katmanı:\n",
        "conv1=Conv2D(32,kernel_size=4,activation='relu')(visible)\n",
        "pool1=MaxPooling2D(pool_size=(2,2))(conv1)\n",
        "flat1=Flatten()(pool1)\n",
        "\n",
        "#2.evrişim katmanı:\n",
        "conv2=Conv2D(16,kernel_size=8,activation='relu')(visible)\n",
        "pool2=MaxPooling2D(pool_size=(2,2))(conv2)\n",
        "flat2=Flatten()(pool2)\n",
        "\n",
        "#birleştirme katmanı:\n",
        "\n",
        "merge=concatenate([flat1,flat2])\n",
        "\n",
        "hidden1=Dense(10,activation='relu')(merge)\n",
        "\n",
        "#çıkış katmanı\n",
        "\n",
        "outpu=Dense(1,activation='sigmoid')(hidden1)\n",
        "model=........"
      ],
      "execution_count": null,
      "outputs": []
    }
  ]
}