{
  "nbformat": 4,
  "nbformat_minor": 0,
  "metadata": {
    "colab": {
      "name": "Reuters_Kitap.ipynb",
      "provenance": [],
      "collapsed_sections": []
    },
    "kernelspec": {
      "name": "python3",
      "display_name": "Python 3"
    }
  },
  "cells": [
    {
      "cell_type": "markdown",
      "metadata": {
        "id": "SQkCxQwuXIWP"
      },
      "source": [
        "# Çoklu Sınıflandırma Örneği:\n",
        "\n",
        "Reuters haberlerini 46 farklı sınıftan birine sınıflandıran ağı inşa edeceksiniz. Birden fazla sınıf olduğu için çoklu sınıflandırma örneğidir ve her veri bu kategorilerden sadece birine sınıflandırılabilir."
      ]
    },
    {
      "cell_type": "code",
      "metadata": {
        "colab": {
          "base_uri": "https://localhost:8080/"
        },
        "id": "dh2Tw_IsUbc3",
        "outputId": "2a6e24a8-2c86-43be-8c17-72845caef148"
      },
      "source": [
        "from keras.datasets import reuters\n",
        "(train_data,train_labels),(test_data,test_labels)=reuters.load_data(num_words=10000)"
      ],
      "execution_count": null,
      "outputs": [
        {
          "output_type": "stream",
          "text": [
            "Downloading data from https://storage.googleapis.com/tensorflow/tf-keras-datasets/reuters.npz\n",
            "2113536/2110848 [==============================] - 0s 0us/step\n"
          ],
          "name": "stdout"
        }
      ]
    },
    {
      "cell_type": "markdown",
      "metadata": {
        "id": "4NStbpPUX0Ix"
      },
      "source": [
        "8982 eğitim ve 2246 test örneğimiz bulunmaktadır."
      ]
    },
    {
      "cell_type": "code",
      "metadata": {
        "colab": {
          "base_uri": "https://localhost:8080/"
        },
        "id": "F0FF9z99U9qj",
        "outputId": "737984e6-d052-46b7-be5f-f6d33750db6e"
      },
      "source": [
        "len(train_data)"
      ],
      "execution_count": null,
      "outputs": [
        {
          "output_type": "execute_result",
          "data": {
            "text/plain": [
              "8982"
            ]
          },
          "metadata": {
            "tags": []
          },
          "execution_count": 3
        }
      ]
    },
    {
      "cell_type": "code",
      "metadata": {
        "colab": {
          "base_uri": "https://localhost:8080/"
        },
        "id": "Yx824B8DXuTr",
        "outputId": "cb5718a1-de53-41fb-f2ee-11401bbdd003"
      },
      "source": [
        "len(test_data)"
      ],
      "execution_count": null,
      "outputs": [
        {
          "output_type": "execute_result",
          "data": {
            "text/plain": [
              "2246"
            ]
          },
          "metadata": {
            "tags": []
          },
          "execution_count": 4
        }
      ]
    },
    {
      "cell_type": "markdown",
      "metadata": {
        "id": "l2BzuHGYYDzl"
      },
      "source": [
        "IMDB veri setinde olduğu gibi her örnek tam sayılardan oluşan bir listedir.(kelime indeksleri)"
      ]
    },
    {
      "cell_type": "code",
      "metadata": {
        "colab": {
          "base_uri": "https://localhost:8080/"
        },
        "id": "S_S8zYFbXyqA",
        "outputId": "ab00a023-6ae8-4ac7-9a20-c9ab1954e216"
      },
      "source": [
        "train_data[10]"
      ],
      "execution_count": null,
      "outputs": [
        {
          "output_type": "execute_result",
          "data": {
            "text/plain": [
              "[1,\n",
              " 245,\n",
              " 273,\n",
              " 207,\n",
              " 156,\n",
              " 53,\n",
              " 74,\n",
              " 160,\n",
              " 26,\n",
              " 14,\n",
              " 46,\n",
              " 296,\n",
              " 26,\n",
              " 39,\n",
              " 74,\n",
              " 2979,\n",
              " 3554,\n",
              " 14,\n",
              " 46,\n",
              " 4689,\n",
              " 4329,\n",
              " 86,\n",
              " 61,\n",
              " 3499,\n",
              " 4795,\n",
              " 14,\n",
              " 61,\n",
              " 451,\n",
              " 4329,\n",
              " 17,\n",
              " 12]"
            ]
          },
          "metadata": {
            "tags": []
          },
          "execution_count": 5
        }
      ]
    },
    {
      "cell_type": "markdown",
      "metadata": {
        "id": "JBObvspcYkzT"
      },
      "source": [
        "# Verileri Hazırlamak:\n",
        "\n",
        "Etiketleri vektöre dönüştürmek."
      ]
    },
    {
      "cell_type": "code",
      "metadata": {
        "id": "MV-tFZnnYPS1"
      },
      "source": [
        "import numpy as np\n",
        "\n",
        "def vectorize_sequence(sequences,dimension=10000):\n",
        "  results=np.zeros((len(sequences),dimension))\n",
        "  for i,sequence in enumerate(sequences):\n",
        "    results[i,sequence]=1.\n",
        "  return results\n",
        "\n",
        "#Eğitim verisinin vektöre dönüştürülmesi\n",
        "x_train=vectorize_sequence(train_data)\n",
        "\n",
        "#Test verisinin vektöre dönüştürülmesi\n",
        "x_test=vectorize_sequence(test_data)"
      ],
      "execution_count": null,
      "outputs": []
    },
    {
      "cell_type": "code",
      "metadata": {
        "id": "evGQpYSsf2pd"
      },
      "source": [
        "#Eğitim etiketlerinin vektöre dönüştürlmesi:\n",
        "from keras.utils.np_utils import to_categorical\n",
        "\n",
        "one_hot_train_labels=to_categorical(train_labels)\n",
        "one_hot_test_labels=to_categorical(test_labels)"
      ],
      "execution_count": null,
      "outputs": []
    },
    {
      "cell_type": "markdown",
      "metadata": {
        "id": "cCdJFJbFraxH"
      },
      "source": [
        "# Ağ İnşa Etmek:\n",
        "\n",
        "Model Tanımı"
      ]
    },
    {
      "cell_type": "code",
      "metadata": {
        "id": "sWLkhcudZhrd"
      },
      "source": [
        "from keras import models\n",
        "from keras import layers\n",
        "\n",
        "model=models.Sequential()\n",
        "\n",
        "model.add(layers.Dense(64,activation=\"relu\",input_shape=(10000,)))\n",
        "model.add(layers.Dense(64,activation=\"relu\"))\n",
        "model.add(layers.Dense(46,activation=\"softmax\"))"
      ],
      "execution_count": null,
      "outputs": []
    },
    {
      "cell_type": "markdown",
      "metadata": {
        "id": "nYNWznrCesXB"
      },
      "source": [
        "Modeli Derlemek:"
      ]
    },
    {
      "cell_type": "code",
      "metadata": {
        "id": "TZ-qhZjItZR_"
      },
      "source": [
        "model.compile(optimizer=\"rmsprop\",\n",
        "              loss=\"categorical_crossentropy\",\n",
        "              metrics=[\"accuracy\"])"
      ],
      "execution_count": null,
      "outputs": []
    },
    {
      "cell_type": "markdown",
      "metadata": {
        "id": "1IWUzJBWe_g9"
      },
      "source": [
        "Doğrulama Veri Seti Oluşturmak:"
      ]
    },
    {
      "cell_type": "code",
      "metadata": {
        "id": "gIHMl_9pe6PX"
      },
      "source": [
        "x_val=x_train[:1000]\n",
        "partial_x_train=x_train[1000:]\n",
        "\n",
        "y_val=one_hot_train_labels[:1000]\n",
        "partial_y_train=one_hot_train_labels[1000:]"
      ],
      "execution_count": null,
      "outputs": []
    },
    {
      "cell_type": "markdown",
      "metadata": {
        "id": "NrJO1lifglBv"
      },
      "source": [
        "Model Eğitmek:"
      ]
    },
    {
      "cell_type": "code",
      "metadata": {
        "colab": {
          "base_uri": "https://localhost:8080/"
        },
        "id": "kPw23PlQfqES",
        "outputId": "28110872-a99b-4fa1-9922-c0c7c37a0e17"
      },
      "source": [
        "history=model.fit(partial_x_train,\n",
        "                  partial_y_train,\n",
        "                  epochs=20,\n",
        "                  batch_size=512,\n",
        "                  validation_data=(x_val,y_val))"
      ],
      "execution_count": null,
      "outputs": [
        {
          "output_type": "stream",
          "text": [
            "Epoch 1/20\n",
            "16/16 [==============================] - 1s 57ms/step - loss: 2.6940 - accuracy: 0.5497 - val_loss: 1.7661 - val_accuracy: 0.6430\n",
            "Epoch 2/20\n",
            "16/16 [==============================] - 1s 44ms/step - loss: 1.4342 - accuracy: 0.7162 - val_loss: 1.3017 - val_accuracy: 0.7190\n",
            "Epoch 3/20\n",
            "16/16 [==============================] - 1s 44ms/step - loss: 1.0388 - accuracy: 0.7843 - val_loss: 1.1057 - val_accuracy: 0.7690\n",
            "Epoch 4/20\n",
            "16/16 [==============================] - 1s 43ms/step - loss: 0.8085 - accuracy: 0.8295 - val_loss: 1.0304 - val_accuracy: 0.7770\n",
            "Epoch 5/20\n",
            "16/16 [==============================] - 1s 43ms/step - loss: 0.6402 - accuracy: 0.8641 - val_loss: 0.9474 - val_accuracy: 0.8040\n",
            "Epoch 6/20\n",
            "16/16 [==============================] - 1s 43ms/step - loss: 0.5113 - accuracy: 0.8988 - val_loss: 0.8991 - val_accuracy: 0.8150\n",
            "Epoch 7/20\n",
            "16/16 [==============================] - 1s 42ms/step - loss: 0.4098 - accuracy: 0.9171 - val_loss: 0.9056 - val_accuracy: 0.8120\n",
            "Epoch 8/20\n",
            "16/16 [==============================] - 1s 43ms/step - loss: 0.3336 - accuracy: 0.9298 - val_loss: 0.8722 - val_accuracy: 0.8190\n",
            "Epoch 9/20\n",
            "16/16 [==============================] - 1s 44ms/step - loss: 0.2800 - accuracy: 0.9401 - val_loss: 0.8977 - val_accuracy: 0.8220\n",
            "Epoch 10/20\n",
            "16/16 [==============================] - 1s 44ms/step - loss: 0.2367 - accuracy: 0.9451 - val_loss: 0.8902 - val_accuracy: 0.8150\n",
            "Epoch 11/20\n",
            "16/16 [==============================] - 1s 42ms/step - loss: 0.2060 - accuracy: 0.9490 - val_loss: 0.9387 - val_accuracy: 0.8050\n",
            "Epoch 12/20\n",
            "16/16 [==============================] - 1s 43ms/step - loss: 0.1840 - accuracy: 0.9530 - val_loss: 0.9080 - val_accuracy: 0.8200\n",
            "Epoch 13/20\n",
            "16/16 [==============================] - 1s 43ms/step - loss: 0.1673 - accuracy: 0.9526 - val_loss: 0.9340 - val_accuracy: 0.8160\n",
            "Epoch 14/20\n",
            "16/16 [==============================] - 1s 44ms/step - loss: 0.1516 - accuracy: 0.9546 - val_loss: 0.9800 - val_accuracy: 0.8190\n",
            "Epoch 15/20\n",
            "16/16 [==============================] - 1s 43ms/step - loss: 0.1484 - accuracy: 0.9553 - val_loss: 0.9929 - val_accuracy: 0.8070\n",
            "Epoch 16/20\n",
            "16/16 [==============================] - 1s 44ms/step - loss: 0.1328 - accuracy: 0.9580 - val_loss: 1.0000 - val_accuracy: 0.8140\n",
            "Epoch 17/20\n",
            "16/16 [==============================] - 1s 45ms/step - loss: 0.1269 - accuracy: 0.9554 - val_loss: 1.0306 - val_accuracy: 0.8070\n",
            "Epoch 18/20\n",
            "16/16 [==============================] - 1s 44ms/step - loss: 0.1249 - accuracy: 0.9559 - val_loss: 1.0614 - val_accuracy: 0.8060\n",
            "Epoch 19/20\n",
            "16/16 [==============================] - 1s 43ms/step - loss: 0.1158 - accuracy: 0.9567 - val_loss: 1.0816 - val_accuracy: 0.7990\n",
            "Epoch 20/20\n",
            "16/16 [==============================] - 1s 42ms/step - loss: 0.1137 - accuracy: 0.9575 - val_loss: 1.0646 - val_accuracy: 0.8090\n"
          ],
          "name": "stdout"
        }
      ]
    },
    {
      "cell_type": "markdown",
      "metadata": {
        "id": "mGxn39Urg9bo"
      },
      "source": [
        "Eğitim ve Doğrulama Kayıplarını Çizdirmek:"
      ]
    },
    {
      "cell_type": "code",
      "metadata": {
        "colab": {
          "base_uri": "https://localhost:8080/",
          "height": 295
        },
        "id": "BKvK8-pNg3Iz",
        "outputId": "e5f3b539-e086-47fa-f779-e42637663f78"
      },
      "source": [
        "import matplotlib.pyplot as plt\n",
        "\n",
        "loss=history.history[\"loss\"]\n",
        "val_loss=history.history[\"val_loss\"]\n",
        "\n",
        "epochs=range(1,len(loss)+1)\n",
        "\n",
        "plt.plot(epochs,loss,\"bo\",label=\"Eğitim Kaybı\")\n",
        "plt.plot(epochs,val_loss,\"b\",label=\"Doğrulama Kaybı\")\n",
        "plt.title(\"Eğitim ve Doğrulama Kaybı\")\n",
        "plt.xlabel(\"Epoklar\")\n",
        "plt.ylabel(\"Kayıp\")\n",
        "plt.legend()\n",
        "\n",
        "plt.show"
      ],
      "execution_count": null,
      "outputs": [
        {
          "output_type": "display_data",
          "data": {
            "image/png": "[encoded data removed]",
            "text/plain": [
              "<Figure size 432x288 with 1 Axes>"
            ]
          },
          "metadata": {
            "tags": [],
            "needs_background": "light"
          }
        }
      ]
    },
    {
      "cell_type": "markdown",
      "metadata": {
        "id": "pWi7U6Ixh-lf"
      },
      "source": [
        "Eğitim ve Doğrulama Başarımını Çizdirmek"
      ]
    },
    {
      "cell_type": "code",
      "metadata": {
        "colab": {
          "base_uri": "https://localhost:8080/",
          "height": 295
        },
        "id": "6399nSYJh0v4",
        "outputId": "2993a2dc-ad93-424e-e9b0-817fe6b2cdbe"
      },
      "source": [
        "plt.clf()\n",
        "\n",
        "accuracy=history.history[\"accuracy\"]\n",
        "val_accuracy=history.history[\"val_accuracy\"]\n",
        "\n",
        "plt.plot(epochs,accuracy,\"bo\",label=\"Training acc\")\n",
        "plt.plot(epochs,val_accuracy,\"b\",label=\"Validation acc\")\n",
        "plt.title(\"Training and validation accuracy\")\n",
        "plt.xlabel(\"Epoklar\")\n",
        "plt.ylabel(\"Başarım\")\n",
        "plt.legend()\n",
        "plt.show()"
      ],
      "execution_count": null,
      "outputs": [
        {
          "output_type": "display_data",
          "data": {
            "image/png": "[encoded data removed]",
            "text/plain": [
              "<Figure size 432x288 with 1 Axes>"
            ]
          },
          "metadata": {
            "tags": [],
            "needs_background": "light"
          }
        }
      ]
    },
    {
      "cell_type": "code",
      "metadata": {
        "id": "pBxLmpExiqKR"
      },
      "source": [
        ""
      ],
      "execution_count": null,
      "outputs": []
    }
  ]
}